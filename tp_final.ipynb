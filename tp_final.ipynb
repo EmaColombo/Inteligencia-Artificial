{
 "cells": [
  {
   "cell_type": "markdown",
   "metadata": {},
   "source": [
    "Instrucciones\n",
    "=============\n",
    "\n",
    "1. Instalar ipython notebook\n",
    "----------------------------\n",
    "\n",
    "Ipython notebook es lo que usamos para crear y ejecutar estos \"documentos con código\" (notebooks). Lo instalamos usando pip:\n",
    "\n",
    "    pip install \"ipython[notebook]\"\n",
    "    \n",
    "(con ``sudo`` antes, para los que están en linux y no están usando virtualenvs)\n",
    "\n",
    "\n",
    "2. Instalar libs\n",
    "----------------\n",
    "\n",
    "Además vamos a estar usando varias libs útiles, que se instalan también con pip:\n",
    "\n",
    "    pip install scikit-learn scipy pandas matplotlib keras theano h5py\n",
    "    \n",
    "\n",
    "3. Abrir este notebook\n",
    "----------------------\n",
    "\n",
    "Bajen el archivo ``tp_final.ipynb`` del repo, luego abran una consola, ingresen al directorio donde se encuentra el archivo, y ejecuten:\n",
    "\n",
    "    ipython notebook\n",
    "  \n",
    "Esto les va a abrir una ventana del navegador web, donde pueden ver la lista de archivos del directorio, y entre esos archivos van a ver el notebook que se bajaron. Háganle click para abrirlo.\n",
    "\n",
    "4. Uso del notebook\n",
    "-------------------\n",
    "\n",
    "La interfaz es bastante sencilla. Algunas cosas básicas que les pueden resultar útiles:\n",
    "\n",
    " * Para modificar el texto de una celda, háganle ``click`` o ``doble click``.\n",
    "\n",
    " * Para ejecutar una celda sola de forma rápida, usen ``shift+enter`` (en las de código, ejecuta el código, en las de texto, lo renderiza). \n",
    " \n",
    " * Mientras el código se está ejecutando, al lado de la celda van a ver un ``[*]``. Eso significa que la celda aún se está ejecutando. Cuando ven un número (ej: ``[42]``), significa que ya terminó de ejecutarse (y el número es el orden en el cual esa celda fue ejecutada).\n",
    " \n",
    " * Pueden ejecutar todas las veces que quieran las celdas, en el orden que prefieran, etc. (pero claramente, para arrancar conviene ejecutar las celdas en orden)\n",
    "\n",
    "Pueden experimentar con el resto de las cosas que ven en la interfaz :)\n",
    "    \n",
    "Consigna\n",
    "========\n",
    "\n",
    "Es un pájaro? Es un avión? No! Es el tp final de IA de este año: **clasificar pájaros vs aviones** utilizando **redes neuronales**.\n",
    "\n",
    "En este trabajo práctico vamos a utilizar redes neuronales para intentar clasificar imágenes, determinando si el objeto que se ve en la imagen es un pájaro o un avión. \n",
    "Para ello, ya contamos con un set de 10.000 imágenes clasificadas en las que estamos seguros de lo que se ve: o un pájaro o un avión. \n",
    "Con estos datos entrenaremos una red neuronal, que luego deberá ser capaz de clasificar correctamente imágenes similares.\n",
    "\n",
    "En clases vamos a ver cómo construir una red neuronal básica, y en este notebook ya tienen el código necesario para leer los datos, mostrar las imágenes, y evaluar la exactitud de la red.\n",
    "El trabajo de ustedes consistirá en escribir el fragmento de código que construye y entrena la red neuronal, de forma tal que las métricas indiquen un 80% o más de accuracy en el conjunto de **test**.\n",
    "\n",
    "Como el resultado no es el mismo si corren varias veces el código, lo que deben lograr es una red que en **al menos 3 de 5 ejecuciones**, logre 80% o más de accuracy.\n",
    "No es válido entregar código que alguna vez tuvimos suerte y llegó al 80%, pero que habitualmente no lo alcanza.\n",
    "\n",
    "La entrega se realizará subiendo el archivo ``tp_final.ipynb`` modificado por ustedes, a la **raiz** del repositorio del grupo."
   ]
  },
  {
   "cell_type": "markdown",
   "metadata": {},
   "source": [
    "Imports y configs\n",
    "================="
   ]
  },
  {
   "cell_type": "code",
   "execution_count": 142,
   "metadata": {
    "collapsed": false
   },
   "outputs": [],
   "source": [
    "# imports de libs que usamos para leer y procesar datos en masa\n",
    "import numpy as np\n",
    "import pandas as pd\n",
    "\n",
    "# lib que usamos para mostrar las imágenes\n",
    "import matplotlib.pyplot as plt\n",
    "\n",
    "# libs que usamos para tareas generales de machine learning: separar conjuntos de datos, evaluar exactitud, etc\n",
    "from sklearn.cross_validation import train_test_split\n",
    "from sklearn.metrics import classification_report, accuracy_score\n",
    "\n",
    "# libs que usamos para construir y entrenar redes neuronales\n",
    "from keras.models import Sequential\n",
    "from keras.layers import Dense, Activation, Input, Dropout, Convolution2D, MaxPooling2D, Flatten\n",
    "\n",
    "# configuración para que las imágenes se vean dentro del notebook\n",
    "%matplotlib inline"
   ]
  },
  {
   "cell_type": "code",
   "execution_count": 143,
   "metadata": {
    "collapsed": true
   },
   "outputs": [],
   "source": [
    "# algunas configuraciones generales respecto a las imagenes\n",
    "picture_size = 32\n",
    "channels = 'rgb'\n",
    "\n",
    "# nombres de las columnas de datos que vamos a usar como \"entradas\"\n",
    "input_columns = []\n",
    "for color in channels:\n",
    "    input_columns.extend(['%s%i' % (color, i) \n",
    "                          for i in range(picture_size ** 2)])"
   ]
  },
  {
   "cell_type": "markdown",
   "metadata": {},
   "source": [
    "Datos\n",
    "=====\n",
    "\n",
    "Leemos las 10.000 imagenes, que están guardadas en un solo archivo y mostramos 5 filas de ejemplo. Para que esto funcione, deben bajar el archivo ``data_tp_final.csv.gz`` desde [este link](https://drive.google.com/open?id=0B5cCDhynqkqDT3BSXzV6ak5Sc1E) y ubicarlo en el mismo directorio que el notebook.\n",
    "\n",
    "Cada fila es una imagen. Cada imagen tiene muchos pixeles. Y cada pixel tiene 3 valores: cuánto de rojo, cuánto de verde y cuánto de azul (estos son \"canales\" de color).\n",
    "\n",
    "Eso quiere decir que si la imagen tiene 32 x 32 pixeles, y cada pixel tiene 3 valores, entonces tenemos 32 x 32 x 3 = 3072 columnas.\n",
    "\n",
    "La última columna, 'label', es un 0 cuando la imagen contiene un pájaro, y 1 cuando contiene un avión."
   ]
  },
  {
   "cell_type": "code",
   "execution_count": 144,
   "metadata": {
    "collapsed": false,
    "scrolled": true
   },
   "outputs": [
    {
     "data": {
      "text/html": [
       "<div>\n",
       "<table border=\"1\" class=\"dataframe\">\n",
       "  <thead>\n",
       "    <tr style=\"text-align: right;\">\n",
       "      <th></th>\n",
       "      <th>r0</th>\n",
       "      <th>r1</th>\n",
       "      <th>r2</th>\n",
       "      <th>r3</th>\n",
       "      <th>r4</th>\n",
       "      <th>r5</th>\n",
       "      <th>r6</th>\n",
       "      <th>r7</th>\n",
       "      <th>r8</th>\n",
       "      <th>r9</th>\n",
       "      <th>...</th>\n",
       "      <th>b1015</th>\n",
       "      <th>b1016</th>\n",
       "      <th>b1017</th>\n",
       "      <th>b1018</th>\n",
       "      <th>b1019</th>\n",
       "      <th>b1020</th>\n",
       "      <th>b1021</th>\n",
       "      <th>b1022</th>\n",
       "      <th>b1023</th>\n",
       "      <th>label</th>\n",
       "    </tr>\n",
       "  </thead>\n",
       "  <tbody>\n",
       "    <tr>\n",
       "      <th>2556</th>\n",
       "      <td>140</td>\n",
       "      <td>138</td>\n",
       "      <td>138</td>\n",
       "      <td>136</td>\n",
       "      <td>135</td>\n",
       "      <td>138</td>\n",
       "      <td>142</td>\n",
       "      <td>145</td>\n",
       "      <td>145</td>\n",
       "      <td>147</td>\n",
       "      <td>...</td>\n",
       "      <td>167</td>\n",
       "      <td>167</td>\n",
       "      <td>167</td>\n",
       "      <td>166</td>\n",
       "      <td>167</td>\n",
       "      <td>167</td>\n",
       "      <td>165</td>\n",
       "      <td>165</td>\n",
       "      <td>168</td>\n",
       "      <td>1</td>\n",
       "    </tr>\n",
       "    <tr>\n",
       "      <th>174</th>\n",
       "      <td>20</td>\n",
       "      <td>20</td>\n",
       "      <td>20</td>\n",
       "      <td>21</td>\n",
       "      <td>22</td>\n",
       "      <td>23</td>\n",
       "      <td>23</td>\n",
       "      <td>23</td>\n",
       "      <td>24</td>\n",
       "      <td>26</td>\n",
       "      <td>...</td>\n",
       "      <td>226</td>\n",
       "      <td>225</td>\n",
       "      <td>224</td>\n",
       "      <td>222</td>\n",
       "      <td>220</td>\n",
       "      <td>215</td>\n",
       "      <td>218</td>\n",
       "      <td>222</td>\n",
       "      <td>222</td>\n",
       "      <td>1</td>\n",
       "    </tr>\n",
       "    <tr>\n",
       "      <th>2897</th>\n",
       "      <td>255</td>\n",
       "      <td>255</td>\n",
       "      <td>255</td>\n",
       "      <td>255</td>\n",
       "      <td>255</td>\n",
       "      <td>255</td>\n",
       "      <td>255</td>\n",
       "      <td>255</td>\n",
       "      <td>255</td>\n",
       "      <td>255</td>\n",
       "      <td>...</td>\n",
       "      <td>255</td>\n",
       "      <td>255</td>\n",
       "      <td>255</td>\n",
       "      <td>255</td>\n",
       "      <td>255</td>\n",
       "      <td>255</td>\n",
       "      <td>255</td>\n",
       "      <td>255</td>\n",
       "      <td>255</td>\n",
       "      <td>1</td>\n",
       "    </tr>\n",
       "    <tr>\n",
       "      <th>3215</th>\n",
       "      <td>155</td>\n",
       "      <td>156</td>\n",
       "      <td>158</td>\n",
       "      <td>159</td>\n",
       "      <td>161</td>\n",
       "      <td>162</td>\n",
       "      <td>164</td>\n",
       "      <td>168</td>\n",
       "      <td>171</td>\n",
       "      <td>174</td>\n",
       "      <td>...</td>\n",
       "      <td>195</td>\n",
       "      <td>192</td>\n",
       "      <td>187</td>\n",
       "      <td>191</td>\n",
       "      <td>191</td>\n",
       "      <td>190</td>\n",
       "      <td>193</td>\n",
       "      <td>190</td>\n",
       "      <td>188</td>\n",
       "      <td>1</td>\n",
       "    </tr>\n",
       "    <tr>\n",
       "      <th>5314</th>\n",
       "      <td>33</td>\n",
       "      <td>50</td>\n",
       "      <td>48</td>\n",
       "      <td>49</td>\n",
       "      <td>83</td>\n",
       "      <td>98</td>\n",
       "      <td>108</td>\n",
       "      <td>127</td>\n",
       "      <td>131</td>\n",
       "      <td>117</td>\n",
       "      <td>...</td>\n",
       "      <td>229</td>\n",
       "      <td>230</td>\n",
       "      <td>231</td>\n",
       "      <td>232</td>\n",
       "      <td>234</td>\n",
       "      <td>234</td>\n",
       "      <td>236</td>\n",
       "      <td>237</td>\n",
       "      <td>241</td>\n",
       "      <td>0</td>\n",
       "    </tr>\n",
       "  </tbody>\n",
       "</table>\n",
       "<p>5 rows × 3073 columns</p>\n",
       "</div>"
      ],
      "text/plain": [
       "       r0   r1   r2   r3   r4   r5   r6   r7   r8   r9  ...    b1015  b1016  \\\n",
       "2556  140  138  138  136  135  138  142  145  145  147  ...      167    167   \n",
       "174    20   20   20   21   22   23   23   23   24   26  ...      226    225   \n",
       "2897  255  255  255  255  255  255  255  255  255  255  ...      255    255   \n",
       "3215  155  156  158  159  161  162  164  168  171  174  ...      195    192   \n",
       "5314   33   50   48   49   83   98  108  127  131  117  ...      229    230   \n",
       "\n",
       "      b1017  b1018  b1019  b1020  b1021  b1022  b1023  label  \n",
       "2556    167    166    167    167    165    165    168      1  \n",
       "174     224    222    220    215    218    222    222      1  \n",
       "2897    255    255    255    255    255    255    255      1  \n",
       "3215    187    191    191    190    193    190    188      1  \n",
       "5314    231    232    234    234    236    237    241      0  \n",
       "\n",
       "[5 rows x 3073 columns]"
      ]
     },
     "execution_count": 144,
     "metadata": {},
     "output_type": "execute_result"
    }
   ],
   "source": [
    "data = pd.read_csv('data_tp_final.csv.gz')\n",
    "data.sample(5)"
   ]
  },
  {
   "cell_type": "markdown",
   "metadata": {},
   "source": [
    "Estandarizamos los valores, para que vayan de 0 a 1. Esto puede demorar un rato. Al final mostramos la nueva tabla, estandarizada."
   ]
  },
  {
   "cell_type": "code",
   "execution_count": 145,
   "metadata": {
    "collapsed": true
   },
   "outputs": [],
   "source": [
    "def standarize_inputs(dataset):\n",
    "    dataset[input_columns] = dataset[input_columns] / 255\n",
    "    #for input_column in input_columns:\n",
    "    #    dataset[input_column] = dataset[input_column] / 255"
   ]
  },
  {
   "cell_type": "code",
   "execution_count": 146,
   "metadata": {
    "collapsed": false
   },
   "outputs": [
    {
     "data": {
      "text/html": [
       "<div>\n",
       "<table border=\"1\" class=\"dataframe\">\n",
       "  <thead>\n",
       "    <tr style=\"text-align: right;\">\n",
       "      <th></th>\n",
       "      <th>r0</th>\n",
       "      <th>r1</th>\n",
       "      <th>r2</th>\n",
       "      <th>r3</th>\n",
       "      <th>r4</th>\n",
       "      <th>r5</th>\n",
       "      <th>r6</th>\n",
       "      <th>r7</th>\n",
       "      <th>r8</th>\n",
       "      <th>r9</th>\n",
       "      <th>...</th>\n",
       "      <th>b1015</th>\n",
       "      <th>b1016</th>\n",
       "      <th>b1017</th>\n",
       "      <th>b1018</th>\n",
       "      <th>b1019</th>\n",
       "      <th>b1020</th>\n",
       "      <th>b1021</th>\n",
       "      <th>b1022</th>\n",
       "      <th>b1023</th>\n",
       "      <th>label</th>\n",
       "    </tr>\n",
       "  </thead>\n",
       "  <tbody>\n",
       "    <tr>\n",
       "      <th>3481</th>\n",
       "      <td>0.996078</td>\n",
       "      <td>0.976471</td>\n",
       "      <td>0.972549</td>\n",
       "      <td>0.976471</td>\n",
       "      <td>0.960784</td>\n",
       "      <td>0.956863</td>\n",
       "      <td>0.949020</td>\n",
       "      <td>0.945098</td>\n",
       "      <td>0.952941</td>\n",
       "      <td>0.960784</td>\n",
       "      <td>...</td>\n",
       "      <td>0.945098</td>\n",
       "      <td>0.945098</td>\n",
       "      <td>0.945098</td>\n",
       "      <td>0.949020</td>\n",
       "      <td>0.952941</td>\n",
       "      <td>0.956863</td>\n",
       "      <td>0.976471</td>\n",
       "      <td>0.992157</td>\n",
       "      <td>0.996078</td>\n",
       "      <td>1</td>\n",
       "    </tr>\n",
       "    <tr>\n",
       "      <th>6178</th>\n",
       "      <td>0.156863</td>\n",
       "      <td>0.192157</td>\n",
       "      <td>0.243137</td>\n",
       "      <td>0.290196</td>\n",
       "      <td>0.376471</td>\n",
       "      <td>0.466667</td>\n",
       "      <td>0.482353</td>\n",
       "      <td>0.470588</td>\n",
       "      <td>0.435294</td>\n",
       "      <td>0.364706</td>\n",
       "      <td>...</td>\n",
       "      <td>0.729412</td>\n",
       "      <td>0.682353</td>\n",
       "      <td>0.619608</td>\n",
       "      <td>0.576471</td>\n",
       "      <td>0.564706</td>\n",
       "      <td>0.572549</td>\n",
       "      <td>0.588235</td>\n",
       "      <td>0.639216</td>\n",
       "      <td>0.690196</td>\n",
       "      <td>0</td>\n",
       "    </tr>\n",
       "    <tr>\n",
       "      <th>8922</th>\n",
       "      <td>0.537255</td>\n",
       "      <td>0.533333</td>\n",
       "      <td>0.517647</td>\n",
       "      <td>0.505882</td>\n",
       "      <td>0.529412</td>\n",
       "      <td>0.552941</td>\n",
       "      <td>0.545098</td>\n",
       "      <td>0.541176</td>\n",
       "      <td>0.556863</td>\n",
       "      <td>0.560784</td>\n",
       "      <td>...</td>\n",
       "      <td>0.682353</td>\n",
       "      <td>0.670588</td>\n",
       "      <td>0.650980</td>\n",
       "      <td>0.654902</td>\n",
       "      <td>0.654902</td>\n",
       "      <td>0.658824</td>\n",
       "      <td>0.690196</td>\n",
       "      <td>0.733333</td>\n",
       "      <td>0.717647</td>\n",
       "      <td>0</td>\n",
       "    </tr>\n",
       "    <tr>\n",
       "      <th>6206</th>\n",
       "      <td>0.345098</td>\n",
       "      <td>0.486275</td>\n",
       "      <td>0.447059</td>\n",
       "      <td>0.239216</td>\n",
       "      <td>0.156863</td>\n",
       "      <td>0.172549</td>\n",
       "      <td>0.290196</td>\n",
       "      <td>0.392157</td>\n",
       "      <td>0.301961</td>\n",
       "      <td>0.325490</td>\n",
       "      <td>...</td>\n",
       "      <td>0.607843</td>\n",
       "      <td>0.588235</td>\n",
       "      <td>0.556863</td>\n",
       "      <td>0.501961</td>\n",
       "      <td>0.470588</td>\n",
       "      <td>0.486275</td>\n",
       "      <td>0.556863</td>\n",
       "      <td>0.611765</td>\n",
       "      <td>0.568627</td>\n",
       "      <td>0</td>\n",
       "    </tr>\n",
       "    <tr>\n",
       "      <th>8493</th>\n",
       "      <td>0.866667</td>\n",
       "      <td>0.862745</td>\n",
       "      <td>0.866667</td>\n",
       "      <td>0.858824</td>\n",
       "      <td>0.850980</td>\n",
       "      <td>0.850980</td>\n",
       "      <td>0.850980</td>\n",
       "      <td>0.854902</td>\n",
       "      <td>0.862745</td>\n",
       "      <td>0.862745</td>\n",
       "      <td>...</td>\n",
       "      <td>0.929412</td>\n",
       "      <td>0.929412</td>\n",
       "      <td>0.925490</td>\n",
       "      <td>0.921569</td>\n",
       "      <td>0.921569</td>\n",
       "      <td>0.925490</td>\n",
       "      <td>0.933333</td>\n",
       "      <td>0.937255</td>\n",
       "      <td>0.937255</td>\n",
       "      <td>0</td>\n",
       "    </tr>\n",
       "  </tbody>\n",
       "</table>\n",
       "<p>5 rows × 3073 columns</p>\n",
       "</div>"
      ],
      "text/plain": [
       "            r0        r1        r2        r3        r4        r5        r6  \\\n",
       "3481  0.996078  0.976471  0.972549  0.976471  0.960784  0.956863  0.949020   \n",
       "6178  0.156863  0.192157  0.243137  0.290196  0.376471  0.466667  0.482353   \n",
       "8922  0.537255  0.533333  0.517647  0.505882  0.529412  0.552941  0.545098   \n",
       "6206  0.345098  0.486275  0.447059  0.239216  0.156863  0.172549  0.290196   \n",
       "8493  0.866667  0.862745  0.866667  0.858824  0.850980  0.850980  0.850980   \n",
       "\n",
       "            r7        r8        r9  ...       b1015     b1016     b1017  \\\n",
       "3481  0.945098  0.952941  0.960784  ...    0.945098  0.945098  0.945098   \n",
       "6178  0.470588  0.435294  0.364706  ...    0.729412  0.682353  0.619608   \n",
       "8922  0.541176  0.556863  0.560784  ...    0.682353  0.670588  0.650980   \n",
       "6206  0.392157  0.301961  0.325490  ...    0.607843  0.588235  0.556863   \n",
       "8493  0.854902  0.862745  0.862745  ...    0.929412  0.929412  0.925490   \n",
       "\n",
       "         b1018     b1019     b1020     b1021     b1022     b1023  label  \n",
       "3481  0.949020  0.952941  0.956863  0.976471  0.992157  0.996078      1  \n",
       "6178  0.576471  0.564706  0.572549  0.588235  0.639216  0.690196      0  \n",
       "8922  0.654902  0.654902  0.658824  0.690196  0.733333  0.717647      0  \n",
       "6206  0.501961  0.470588  0.486275  0.556863  0.611765  0.568627      0  \n",
       "8493  0.921569  0.921569  0.925490  0.933333  0.937255  0.937255      0  \n",
       "\n",
       "[5 rows x 3073 columns]"
      ]
     },
     "execution_count": 146,
     "metadata": {},
     "output_type": "execute_result"
    }
   ],
   "source": [
    "standarize_inputs(data)\n",
    "\n",
    "data.sample(5)"
   ]
  },
  {
   "cell_type": "markdown",
   "metadata": {},
   "source": [
    "Esta función nos permite pasarle un conjunto de imagenes (filas de la tabla), y nos las dibuja. También admite usar alguna columna de la tabla como título para cada imagen"
   ]
  },
  {
   "cell_type": "code",
   "execution_count": 147,
   "metadata": {
    "collapsed": false
   },
   "outputs": [],
   "source": [
    "def show_images(samples, title=None):\n",
    "    for index, sample in samples.iterrows():\n",
    "        if title is not None:\n",
    "            plt.title(str(sample[title]))\n",
    "\n",
    "        sample_as_grid = sample[input_columns].values.reshape(len(channels), picture_size, picture_size)\n",
    "        sample_as_grid = np.transpose(sample_as_grid, (1, 2, 0))\n",
    "        plt.axis('off')\n",
    "        plt.imshow(sample_as_grid, interpolation='nearest')\n",
    "\n",
    "        plt.show()"
   ]
  },
  {
   "cell_type": "markdown",
   "metadata": {},
   "source": [
    "Mostramos algunas imagenes de ejemplo al azar. Pueden ustedes distinguir lo que hay en cada imagen? (si ejecutan esta celda muchas veces, van a ir viendo imágenes diferentes)"
   ]
  },
  {
   "cell_type": "code",
   "execution_count": 148,
   "metadata": {
    "collapsed": false
   },
   "outputs": [
    {
     "data": {
      "image/png": "[encoded data removed]",
      "text/plain": [
       "<matplotlib.figure.Figure at 0x7f2b35f52fd0>"
      ]
     },
     "metadata": {},
     "output_type": "display_data"
    },
    {
     "data": {
      "image/png": "[encoded data removed]",
      "text/plain": [
       "<matplotlib.figure.Figure at 0x7f2b3541fdd0>"
      ]
     },
     "metadata": {},
     "output_type": "display_data"
    },
    {
     "data": {
      "image/png": "[encoded data removed]",
      "text/plain": [
       "<matplotlib.figure.Figure at 0x7f2b345c4610>"
      ]
     },
     "metadata": {},
     "output_type": "display_data"
    },
    {
     "data": {
      "image/png": "[encoded data removed]",
      "text/plain": [
       "<matplotlib.figure.Figure at 0x7f2b3587d890>"
      ]
     },
     "metadata": {},
     "output_type": "display_data"
    },
    {
     "data": {
      "image/png": "[encoded data removed]",
      "text/plain": [
       "<matplotlib.figure.Figure at 0x7f2b34859550>"
      ]
     },
     "metadata": {},
     "output_type": "display_data"
    },
    {
     "data": {
      "image/png": "[encoded data removed]",
      "text/plain": [
       "<matplotlib.figure.Figure at 0x7f2b35592dd0>"
      ]
     },
     "metadata": {},
     "output_type": "display_data"
    },
    {
     "data": {
      "image/png": "[encoded data removed]",
      "text/plain": [
       "<matplotlib.figure.Figure at 0x7f2b35787050>"
      ]
     },
     "metadata": {},
     "output_type": "display_data"
    },
    {
     "data": {
      "image/png": "[encoded data removed]",
      "text/plain": [
       "<matplotlib.figure.Figure at 0x7f2b35ef1490>"
      ]
     },
     "metadata": {},
     "output_type": "display_data"
    },
    {
     "data": {
      "image/png": "[encoded data removed]",
      "text/plain": [
       "<matplotlib.figure.Figure at 0x7f2b35e038d0>"
      ]
     },
     "metadata": {},
     "output_type": "display_data"
    },
    {
     "data": {
      "image/png": "[encoded data removed]",
      "text/plain": [
       "<matplotlib.figure.Figure at 0x7f2b35cc3290>"
      ]
     },
     "metadata": {},
     "output_type": "display_data"
    }
   ],
   "source": [
    "show_images(data.sample(10), title='label')"
   ]
  },
  {
   "cell_type": "markdown",
   "metadata": {},
   "source": [
    "Y finalmente, separamos los datos en dos conjuntos, vamos a utilizar uno para entrenar la red y el otro para testearla (y de esa forma asegurarnos de que no estamos sobreentrenando, evaluar cómo se va a comportar con casos que no usó para entrenar, etc)."
   ]
  },
  {
   "cell_type": "code",
   "execution_count": 149,
   "metadata": {
    "collapsed": false
   },
   "outputs": [
    {
     "name": "stdout",
     "output_type": "stream",
     "text": [
      "#################### train labels ####################\n",
      "0    4010\n",
      "1    3990\n",
      "Name: label, dtype: int64\n",
      "\n",
      "#################### test labels ####################\n",
      "1    1010\n",
      "0     990\n",
      "Name: label, dtype: int64\n",
      "\n"
     ]
    }
   ],
   "source": [
    "train, test = train_test_split(data, test_size=0.2)\n",
    "sets = (\n",
    "    ('train', train),\n",
    "    ('test', test),\n",
    ")\n",
    "\n",
    "for set_name, set_data in sets:\n",
    "    print '#' * 20, set_name, 'labels', '#' * 20\n",
    "    print set_data.label.value_counts()\n",
    "    print"
   ]
  },
  {
   "cell_type": "markdown",
   "metadata": {},
   "source": [
    "Red neuronal\n",
    "============\n",
    "\n",
    "Esta primer función es una comodidad, para no tener que repetir este fragmento de código cada vez que queramos alimentar a la red neuronal con datos de entrada. Lo que hace la función, es quedarse solo con los valores de las columnas de entrada."
   ]
  },
  {
   "cell_type": "code",
   "execution_count": 150,
   "metadata": {
    "collapsed": true
   },
   "outputs": [],
   "source": [
    "def extract_inputs(dataset):\n",
    "    return dataset[input_columns].values"
   ]
  },
  {
   "cell_type": "markdown",
   "metadata": {},
   "source": [
    "Y aquí es donde ustedes tienen que completar su entrega:"
   ]
  },
  {
   "cell_type": "code",
   "execution_count": 151,
   "metadata": {
    "collapsed": false
   },
   "outputs": [
    {
     "name": "stdout",
     "output_type": "stream",
     "text": [
      "Epoch 1/50\n",
      "8000/8000 [==============================] - 0s - loss: 0.6619 - acc: 0.6969     \n",
      "Epoch 2/50\n",
      "8000/8000 [==============================] - 0s - loss: 0.6074 - acc: 0.7515     \n",
      "Epoch 3/50\n",
      "8000/8000 [==============================] - 0s - loss: 0.5505 - acc: 0.7561     \n",
      "Epoch 4/50\n",
      "8000/8000 [==============================] - 0s - loss: 0.5247 - acc: 0.7724     \n",
      "Epoch 5/50\n",
      "8000/8000 [==============================] - 0s - loss: 0.5086 - acc: 0.7797     \n",
      "Epoch 6/50\n",
      "8000/8000 [==============================] - 0s - loss: 0.4973 - acc: 0.7850     \n",
      "Epoch 7/50\n",
      "8000/8000 [==============================] - 0s - loss: 0.4914 - acc: 0.7897     \n",
      "Epoch 8/50\n",
      "8000/8000 [==============================] - 0s - loss: 0.4844 - acc: 0.7897     \n",
      "Epoch 9/50\n",
      "8000/8000 [==============================] - 0s - loss: 0.4904 - acc: 0.7849     \n",
      "Epoch 10/50\n",
      "8000/8000 [==============================] - 0s - loss: 0.4817 - acc: 0.7896     \n",
      "Epoch 11/50\n",
      "8000/8000 [==============================] - 0s - loss: 0.4677 - acc: 0.8051     \n",
      "Epoch 12/50\n",
      "8000/8000 [==============================] - 0s - loss: 0.4659 - acc: 0.8026     \n",
      "Epoch 13/50\n",
      "8000/8000 [==============================] - 0s - loss: 0.4564 - acc: 0.8109     \n",
      "Epoch 14/50\n",
      "8000/8000 [==============================] - 0s - loss: 0.4570 - acc: 0.8063     \n",
      "Epoch 15/50\n",
      "8000/8000 [==============================] - 0s - loss: 0.4431 - acc: 0.8160     \n",
      "Epoch 16/50\n",
      "8000/8000 [==============================] - 0s - loss: 0.4508 - acc: 0.8048     \n",
      "Epoch 17/50\n",
      "8000/8000 [==============================] - 0s - loss: 0.4491 - acc: 0.8050     \n",
      "Epoch 18/50\n",
      "8000/8000 [==============================] - 0s - loss: 0.4265 - acc: 0.8231     \n",
      "Epoch 19/50\n",
      "8000/8000 [==============================] - 0s - loss: 0.4228 - acc: 0.8225     \n",
      "Epoch 20/50\n",
      "8000/8000 [==============================] - 0s - loss: 0.4231 - acc: 0.8201     \n",
      "Epoch 21/50\n",
      "8000/8000 [==============================] - 0s - loss: 0.4128 - acc: 0.8255     \n",
      "Epoch 22/50\n",
      "8000/8000 [==============================] - 0s - loss: 0.4142 - acc: 0.8244     \n",
      "Epoch 23/50\n",
      "8000/8000 [==============================] - 0s - loss: 0.4120 - acc: 0.8251     \n",
      "Epoch 24/50\n",
      "8000/8000 [==============================] - 0s - loss: 0.4127 - acc: 0.8231     \n",
      "Epoch 25/50\n",
      "8000/8000 [==============================] - 0s - loss: 0.4086 - acc: 0.8216     \n",
      "Epoch 26/50\n",
      "8000/8000 [==============================] - 0s - loss: 0.3968 - acc: 0.8355     \n",
      "Epoch 27/50\n",
      "8000/8000 [==============================] - 0s - loss: 0.3972 - acc: 0.8329     \n",
      "Epoch 28/50\n",
      "8000/8000 [==============================] - 0s - loss: 0.3981 - acc: 0.8319     \n",
      "Epoch 29/50\n",
      "8000/8000 [==============================] - 0s - loss: 0.3954 - acc: 0.8371     \n",
      "Epoch 30/50\n",
      "8000/8000 [==============================] - 0s - loss: 0.3890 - acc: 0.8342     \n",
      "Epoch 31/50\n",
      "8000/8000 [==============================] - 0s - loss: 0.4048 - acc: 0.8270     \n",
      "Epoch 32/50\n",
      "8000/8000 [==============================] - 0s - loss: 0.3861 - acc: 0.8394     \n",
      "Epoch 33/50\n",
      "8000/8000 [==============================] - 0s - loss: 0.3790 - acc: 0.8420     \n",
      "Epoch 34/50\n",
      "8000/8000 [==============================] - 0s - loss: 0.4000 - acc: 0.8320     \n",
      "Epoch 35/50\n",
      "8000/8000 [==============================] - 0s - loss: 0.3965 - acc: 0.8331     \n",
      "Epoch 36/50\n",
      "8000/8000 [==============================] - 0s - loss: 0.3757 - acc: 0.8416     \n",
      "Epoch 37/50\n",
      "8000/8000 [==============================] - 0s - loss: 0.3714 - acc: 0.8454     \n",
      "Epoch 38/50\n",
      "8000/8000 [==============================] - 0s - loss: 0.3851 - acc: 0.8374     \n",
      "Epoch 39/50\n",
      "8000/8000 [==============================] - 0s - loss: 0.3714 - acc: 0.8461     \n",
      "Epoch 40/50\n",
      "8000/8000 [==============================] - 0s - loss: 0.3647 - acc: 0.8504     \n",
      "Epoch 41/50\n",
      "8000/8000 [==============================] - 0s - loss: 0.3624 - acc: 0.8484     \n",
      "Epoch 42/50\n",
      "8000/8000 [==============================] - 0s - loss: 0.3581 - acc: 0.8520     \n",
      "Epoch 43/50\n",
      "8000/8000 [==============================] - 0s - loss: 0.3604 - acc: 0.8529     \n",
      "Epoch 44/50\n",
      "8000/8000 [==============================] - 0s - loss: 0.3597 - acc: 0.8526     \n",
      "Epoch 45/50\n",
      "8000/8000 [==============================] - 0s - loss: 0.3525 - acc: 0.8555     \n",
      "Epoch 46/50\n",
      "8000/8000 [==============================] - 0s - loss: 0.3597 - acc: 0.8520     \n",
      "Epoch 47/50\n",
      "8000/8000 [==============================] - 0s - loss: 0.3669 - acc: 0.8467     \n",
      "Epoch 48/50\n",
      "8000/8000 [==============================] - 0s - loss: 0.3562 - acc: 0.8521     \n",
      "Epoch 49/50\n",
      "8000/8000 [==============================] - 0s - loss: 0.3516 - acc: 0.8549     \n",
      "Epoch 50/50\n",
      "8000/8000 [==============================] - 0s - loss: 0.3418 - acc: 0.8605     \n"
     ]
    },
    {
     "data": {
      "text/plain": [
       "<keras.callbacks.History at 0x7f2b347d4a50>"
      ]
     },
     "execution_count": 151,
     "metadata": {},
     "output_type": "execute_result"
    }
   ],
   "source": [
    "#model = None  # Crear la red aquí y guardarla en esta variable \n",
    "#Capa de entrada\n",
    "model = Sequential()\n",
    "model.add(Dense(8,input_dim=3072)), \n",
    "model.add(Activation('tanh'))\n",
    "\n",
    "#Capa oculta\n",
    "model.add(Dense(6, activation ='tanh'))\n",
    "\n",
    "#Capa de Salida\n",
    "model.add(Dense(1, activation ='sigmoid'))\n",
    "\n",
    "model.compile(optimizer = 'adam', loss = 'binary_crossentropy', metrics = ['accuracy'])\n",
    "\n",
    "model.fit(extract_inputs(train),train.label.values,nb_epoch = 50,batch_size = 250)\n",
    "#nb_epoch -> Cantidad de iteraciones"
   ]
  },
  {
   "cell_type": "markdown",
   "metadata": {
    "collapsed": true
   },
   "source": [
    "# Entrenar la red aquí\n"
   ]
  },
  {
   "cell_type": "markdown",
   "metadata": {},
   "source": [
    "Una vez entrenada, pueden evaluar la performance de la red neuronal utilizando los dos conjuntos, con este fragmento de código.\n",
    "\n",
    "El valor que tienen que lograr que llege a 80% (0.8) o más, es **accuracy** en el conjunto de **test**."
   ]
  },
  {
   "cell_type": "code",
   "execution_count": 152,
   "metadata": {
    "collapsed": false
   },
   "outputs": [
    {
     "name": "stdout",
     "output_type": "stream",
     "text": [
      "######################### train #########################\n",
      "accuracy 0.858625\n",
      "             precision    recall  f1-score   support\n",
      "\n",
      "          0       0.90      0.81      0.85      4010\n",
      "          1       0.83      0.91      0.87      3990\n",
      "\n",
      "avg / total       0.86      0.86      0.86      8000\n",
      "\n",
      "######################### test #########################\n",
      "accuracy 0.8115\n",
      "             precision    recall  f1-score   support\n",
      "\n",
      "          0       0.86      0.74      0.80       990\n",
      "          1       0.78      0.88      0.82      1010\n",
      "\n",
      "avg / total       0.82      0.81      0.81      2000\n",
      "\n"
     ]
    }
   ],
   "source": [
    "for set_name, set_data in sets:\n",
    "    labels = set_data.label.values\n",
    "    predicted_labels = np.rint(model.predict(extract_inputs(set_data)))\n",
    "\n",
    "    print '#' * 25, set_name, '#' * 25\n",
    "    print 'accuracy', accuracy_score(labels, predicted_labels)\n",
    "    print classification_report(labels, predicted_labels)\n",
    "    "
   ]
  },
  {
   "cell_type": "markdown",
   "metadata": {},
   "source": [
    "Finalmente, podemos clasificar todas las imágenes del conjunto de test, y mostrar algunos ejemplos de casos que anduvieron bien y casos que anduvieron mal.\n",
    "\n",
    "El título en cada imagen es la salida de la red neuronal: más cerca de 1 significa avión, más cerca de 0 significa pájaro."
   ]
  },
  {
   "cell_type": "code",
   "execution_count": 153,
   "metadata": {
    "collapsed": false,
    "scrolled": false
   },
   "outputs": [],
   "source": [
    "test_with_predictions = test.copy()\n",
    "test_with_predictions['prediction'] = model.predict(extract_inputs(test_with_predictions))\n",
    "test_with_predictions['predicted_label'] = np.rint(test_with_predictions.prediction)\n",
    "is_correct = test_with_predictions.label == test_with_predictions.predicted_label"
   ]
  },
  {
   "cell_type": "markdown",
   "metadata": {},
   "source": [
    "Bien clasificados:"
   ]
  },
  {
   "cell_type": "code",
   "execution_count": 154,
   "metadata": {
    "collapsed": false,
    "scrolled": true
   },
   "outputs": [
    {
     "data": {
      "image/png": "[encoded data removed]",
      "text/plain": [
       "<matplotlib.figure.Figure at 0x7f2b347e3150>"
      ]
     },
     "metadata": {},
     "output_type": "display_data"
    },
    {
     "data": {
      "image/png": "[encoded data removed]",
      "text/plain": [
       "<matplotlib.figure.Figure at 0x7f2b348ada50>"
      ]
     },
     "metadata": {},
     "output_type": "display_data"
    },
    {
     "data": {
      "image/png": "[encoded data removed]",
      "text/plain": [
       "<matplotlib.figure.Figure at 0x7f2b345a5b50>"
      ]
     },
     "metadata": {},
     "output_type": "display_data"
    },
    {
     "data": {
      "image/png": "[encoded data removed]",
      "text/plain": [
       "<matplotlib.figure.Figure at 0x7f2b344cde90>"
      ]
     },
     "metadata": {},
     "output_type": "display_data"
    },
    {
     "data": {
      "image/png": "[encoded data removed]",
      "text/plain": [
       "<matplotlib.figure.Figure at 0x7f2b343f4d10>"
      ]
     },
     "metadata": {},
     "output_type": "display_data"
    }
   ],
   "source": [
    "show_images(test_with_predictions[is_correct].sample(5), title='prediction')"
   ]
  },
  {
   "cell_type": "markdown",
   "metadata": {},
   "source": [
    "Mal clasificados:"
   ]
  },
  {
   "cell_type": "code",
   "execution_count": 155,
   "metadata": {
    "collapsed": false,
    "scrolled": true
   },
   "outputs": [
    {
     "data": {
      "image/png": "[encoded data removed]",
      "text/plain": [
       "<matplotlib.figure.Figure at 0x7f2b31444050>"
      ]
     },
     "metadata": {},
     "output_type": "display_data"
    },
    {
     "data": {
      "image/png": "[encoded data removed]",
      "text/plain": [
       "<matplotlib.figure.Figure at 0x7f2b3136d850>"
      ]
     },
     "metadata": {},
     "output_type": "display_data"
    },
    {
     "data": {
      "image/png": "[encoded data removed]",
      "text/plain": [
       "<matplotlib.figure.Figure at 0x7f2b312f9a50>"
      ]
     },
     "metadata": {},
     "output_type": "display_data"
    },
    {
     "data": {
      "image/png": "[encoded data removed]",
      "text/plain": [
       "<matplotlib.figure.Figure at 0x7f2b2275bfd0>"
      ]
     },
     "metadata": {},
     "output_type": "display_data"
    },
    {
     "data": {
      "image/png": "[encoded data removed]",
      "text/plain": [
       "<matplotlib.figure.Figure at 0x7f2b22685f90>"
      ]
     },
     "metadata": {},
     "output_type": "display_data"
    }
   ],
   "source": [
    "show_images(test_with_predictions[~is_correct].sample(5), title='prediction')"
   ]
  },
  {
   "cell_type": "markdown",
   "metadata": {
    "collapsed": true
   },
   "source": [
    "Y si quieren probar con otras imagenes que ustedes consigan, pueden usar esta otra función, pasándole una lista de paths de las imágenes (solo jpg) en su disco. Pero **antes**, tienen que instalar otro paquete de python:\n",
    "\n",
    "    pip install pillow\n",
    "    \n",
    "Esto es opcional, para que se diviertan, por eso no estaba al inicio en la consigna. Puede que renieguen para instalar pillow. En linux, puede que necesiten antes instalar otra cosa antes para que pillow se pueda instalar correctamente: ``sudo apt-get install libjpeg-dev``"
   ]
  },
  {
   "cell_type": "code",
   "execution_count": 156,
   "metadata": {
    "collapsed": false
   },
   "outputs": [
    {
     "ename": "ImportError",
     "evalue": "No module named PIL",
     "output_type": "error",
     "traceback": [
      "\u001b[0;31m---------------------------------------------------------------------------\u001b[0m",
      "\u001b[0;31mImportError\u001b[0m                               Traceback (most recent call last)",
      "\u001b[0;32m<ipython-input-156-6ee9572c878e>\u001b[0m in \u001b[0;36m<module>\u001b[0;34m()\u001b[0m\n\u001b[0;32m----> 1\u001b[0;31m \u001b[0;32mfrom\u001b[0m \u001b[0mPIL\u001b[0m \u001b[0;32mimport\u001b[0m \u001b[0mImage\u001b[0m\u001b[0;34m\u001b[0m\u001b[0m\n\u001b[0m\u001b[1;32m      2\u001b[0m \u001b[0;34m\u001b[0m\u001b[0m\n\u001b[1;32m      3\u001b[0m \u001b[0;32mdef\u001b[0m \u001b[0mclassify_pictures\u001b[0m\u001b[0;34m(\u001b[0m\u001b[0mpictures_paths\u001b[0m\u001b[0;34m)\u001b[0m\u001b[0;34m:\u001b[0m\u001b[0;34m\u001b[0m\u001b[0m\n\u001b[1;32m      4\u001b[0m     \u001b[0mraw_pictures_data\u001b[0m \u001b[0;34m=\u001b[0m \u001b[0;34m[\u001b[0m\u001b[0;34m]\u001b[0m\u001b[0;34m\u001b[0m\u001b[0m\n\u001b[1;32m      5\u001b[0m \u001b[0;34m\u001b[0m\u001b[0m\n",
      "\u001b[0;31mImportError\u001b[0m: No module named PIL"
     ]
    }
   ],
   "source": [
    "from PIL import Image\n",
    "\n",
    "def classify_pictures(pictures_paths):\n",
    "    raw_pictures_data = []\n",
    "    \n",
    "    for picture_path in pictures_paths:\n",
    "        picture = Image.open(picture_path)\n",
    "\n",
    "        picture = picture.resize((picture_size, picture_size), Image.ANTIALIAS)\n",
    "        picture_data = np.array(list(zip(*picture.getdata()))).reshape(len(input_columns))\n",
    "    \n",
    "        raw_pictures_data.append(picture_data)\n",
    "    \n",
    "    pictures_data = pd.DataFrame(raw_pictures_data, columns=input_columns)\n",
    "\n",
    "    standarize_inputs(pictures_data)\n",
    "\n",
    "    pictures_data['prediction'] = model.predict(extract_inputs(pictures_data))\n",
    "    \n",
    "    show_images(pictures_data, title='prediction')"
   ]
  },
  {
   "cell_type": "code",
   "execution_count": null,
   "metadata": {
    "collapsed": false
   },
   "outputs": [],
   "source": [
    "classify_pictures([\n",
    "    '/home/fisa/Pictures/halcon.jpg', # es un pajaro?\n",
    "    '/home/fisa/Pictures/f22.jpg',  #  es un avion?\n",
    "    '/home/fisa/Pictures/superman.jpg',  # no! es superman\n",
    "    # etc...\n",
    "])"
   ]
  },
  {
   "cell_type": "code",
   "execution_count": null,
   "metadata": {
    "collapsed": true
   },
   "outputs": [],
   "source": []
  }
 ],
 "metadata": {
  "kernelspec": {
   "display_name": "Python 2",
   "language": "python",
   "name": "python2"
  },
  "language_info": {
   "codemirror_mode": {
    "name": "ipython",
    "version": 2
   },
   "file_extension": ".py",
   "mimetype": "text/x-python",
   "name": "python",
   "nbconvert_exporter": "python",
   "pygments_lexer": "ipython2",
   "version": "2.7.12"
  }
 },
 "nbformat": 4,
 "nbformat_minor": 1
}
